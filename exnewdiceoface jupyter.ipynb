import numpy as np
import cv2
import keras
import face_recognition
import time
import azure.cognitiveservices.speech as speechsdk
from gtts import gTTS
import os
import pygame


emotion_dict= {0: 'Angry',
 5: 'Happy',
 4: 'Neutral',
 1: 'Disgust',
 6: 'Surprise',
 2: 'Sad',
 3: 'Fear'}
img=[]
mytext = 'Welcome to Artificial Intelligence and Machine learning Fair. The system you are standing infront of will show and execute the emotion recognition project. I would like to tell you one more thing. That is, whenever you see MIC is ON on the screen, please try to interact with me. I will show what you have said to me in text form on the screen. I repeat again for you, whenever you see MIC is ON on the screen, please try to interact with me. I will show what you have said to me in text form on the screen. Five... four... three... two... one... Are you ready. I said, are you ready'			
language = 'en'
myobj = gTTS(text=mytext, lang=language, slow=False)
myobj.save("welcome.mp3")
os.system("mpg123 welcome.mp3")
speech_key,service_region="c5246d1ddf8c42079789c3a0c4f65f5c","westus"
setting=speechsdk.SpeechConfig(subscription=speech_key,region=service_region)
speech_recognizer=speechsdk.SpeechRecognizer(speech_config=setting)
print("MIC is ON..Please confrim that you are ready.")
results=speech_recognizer.recognize_once()
print("This is what you said and confirmed to me...",results.text)
time.sleep(6)
mytext = 'See the text form of your speech.So, you are ready...then... what are we waiting for... let us go'			
language = 'en'
myobj = gTTS(text=mytext, lang=language, slow=False)
myobj.save("welcome1.mp3")
os.system("mpg123 welcome1.mp3")
time.sleep(2)
mytext = 'Now, I will take photo of yours and will tell what is your emotion right now at this momemt... To do this you have to stand in front of camera and do some emotion. Please pay attention. Now, you will be given ten seconds time to decide your pose and emotion'			
language = 'en'
myobj = gTTS(text=mytext, lang=language, slow=False)
myobj.save("welcome2.mp3")
os.system("mpg123 welcome2.mp3")
time.sleep(10)
mytext = 'Your ten seconds time is over now... Please look into the camera and try to hold on.'			
language = 'en'
myobj = gTTS(text=mytext, lang=language, slow=False)
myobj.save("welcome3.mp3")
os.system("mpg123 welcome3.mp3")


for i in range(1,2):
	time.sleep(10)
	cap=cv2.VideoCapture(0)
	#cap.set(cv2.CAP_PROP_POS_MSEC,1000*i)
	return_value,frame=cap.read()
	cv2.imwrite("image"+str(i)+".jpg",frame)
	del(cap)
#CV_CAP_PROP_FPS to count the number of frames
	for i in range(1,2):
		face_image=cv2.imread("image"+str(i)+".jpg")
		face_image=cv2.resize(face_image,(48,48))
		face_image = cv2.cvtColor(face_image, cv2.COLOR_BGR2GRAY)
		face_image = np.reshape(face_image, [1, face_image.shape[0], face_image.shape[1], 1])
		model = keras.models.load_model("model_v6_23.hdf5")
		predicted_class = np.argmax(model.predict(face_image))
		predicted_label = emotion_dict[predicted_class]
		a=str(predicted_label)
		if (a=="Sad"):
			print("Your emotion is",(predicted_label))
			mytext = 'Artificial intelligence recognized your emotion is sad... but, do not worry. I will make you happy. If you dont mind, can you read the below conversation between husband and wife. Please take fifteen seconds to read and enjoy it'			
			language = 'en'
			myobj = gTTS(text=mytext, lang=language, slow=False)
			myobj.save("welcome4.mp3")
			os.system("mpg123 welcome4.mp3")
			print("why are you sad? Let me tell you a joke", "\n", "Wife:had your lunch?", "\n","Husband:had your lunch?", "\n","Wife: I am asking you", "\n", "Husband: I am asking you","\n","Wife:you copying me","\n", "Husband:you copying me","\n","Wife:let's go shopping","\n", "Husband: Yes I had my lunch")
			time.sleep(15)
			mytext = 'I hope you enjoyed by reading this conversation.'			
			language = 'en'
			myobj = gTTS(text=mytext, lang=language, slow=False)
			myobj.save("welcome5.mp3")
			os.system("mpg123 welcome5.mp3")			
			speech_key,service_region="c5246d1ddf8c42079789c3a0c4f65f5c","westus"
			setting=speechsdk.SpeechConfig(subscription=speech_key,region=service_region)
			speech_recognizer=speechsdk.SpeechRecognizer(speech_config=setting)
			print("MIC ON.. say something about your current state of mind...")
			results=speech_recognizer.recognize_once()
			print("Do You feel better after sharing your current state of mind ...",results.text)
			time.sleep(3)
			mytext = 'Do You feel better after sharing your current state of mind ...'			
			language = 'en'
			myobj = gTTS(text=mytext, lang=language, slow=False)
			myobj.save("welcome6.mp3")
			os.system("mpg123 welcome6.mp3")
			print("This is what you have said to me...",results.text)
			mytext = 'Finally you are happy. Lets celebrate this beautiful moment. Please dance and enjoy this music. I repeat again, Please dance and enjoy this music.'			
			language = 'en'
			myobj = gTTS(text=mytext, lang=language, slow=False)
			myobj.save("welcome7.mp3")
			os.system("mpg123 welcome7.mp3")
			time.sleep(5)
			pygame.init()
			song = pygame.mixer.Sound('Happy.ogg')
			clock = pygame.time.Clock()
			song.play()
			while True:
   			 clock.tick(60)
			pygame.quit()
			time.sleep(5)
			mytext = 'thank you... for your kind participation...Before leaving, try to guess the name of this movie of this following theme. Let me see who will guess the theme first. Shall we start?'			
			language = 'en'
			myobj = gTTS(text=mytext, lang=language, slow=False)
			myobj.save("welcome17.mp3")
			os.system("mpg123 welcome17.mp3")			
			time.sleep(5)	
			pygame.init()
			song = pygame.mixer.Sound('end.ogg')
			clock = pygame.time.Clock()
			song.play()
			while True:
 			 clock.tick(60)
			pygame.quit()

				

		elif (a=="Angry"):
			print("Your emotion is",(predicted_label))
			mytext = 'Artificial intelligence recognized your emotion is angry... but, do not worry we will make you happy. If you dont mind, can you listen the below standup comedy?'			
			language = 'en'
			myobj = gTTS(text=mytext, lang=language, slow=False)
			myobj.save("welcome8.mp3")
			os.system("mpg123 welcome8.mp3")
			
			mytext = 'I want to you to be happy. Please say something after enjoying this comedy'			
			language = 'en'
			myobj = gTTS(text=mytext, lang=language, slow=False)
			myobj.save("welcome9.mp3")
			os.system("mpg123 welcome9.mp3")
			pygame.init()
			song = pygame.mixer.Sound('welcome9.ogg')
			clock = pygame.time.Clock()
			song.play()
			while True:
   			 clock.tick(60)
			pygame.quit()
			speech_key,service_region="c5246d1ddf8c42079789c3a0c4f65f5c","westus"
			setting=speechsdk.SpeechConfig(subscription=speech_key,region=service_region)
			speech_recognizer=speechsdk.SpeechRecognizer(speech_config=setting)
			print("MIC ON.. say something. how do you feel now?")
			results=speech_recognizer.recognize_once()
			print("This is what you have said to me...",results.text)			
			time.sleep(5)			
			print("Now you are happy")
			time.sleep(5)
			mytext = 'thank you... for your kind participation... Before leaving, try to guess the name of this movie of this following theme. Let me see who will guess the theme first. Shall we start?'			
			language = 'en'
			myobj = gTTS(text=mytext, lang=language, slow=False)
			myobj.save("welcome17.mp3")
			os.system("mpg123 welcome17.mp3")			
			time.sleep(5)	
			pygame.init()
			song = pygame.mixer.Sound('pcari.ogg')
			clock = pygame.time.Clock()
			song.play()
			while True:
 			 clock.tick(60)
			pygame.quit()
			
		elif(a=="Neutral"):
			print("Your emotion is",(predicted_label))
			mytext = 'Artificial intelligence recognized your emotion is neutral... This is fine. But, we will make you even happier person. If you dont mind, can you read the below conversation between husband and wife. Please take fifteen seconds to read and enjoy it'			
			language = 'en'
			myobj = gTTS(text=mytext, lang=language, slow=False)
			myobj.save("welcome10.mp3")
			os.system("mpg123 welcome10.mp3")
			print("Let me tell you a joke", "\n", "\n", "\n", "Wife:How would you describe me", "\n","Husband:ABCDEFGHIJK.", "\n","Wife: What does that mean?", "\n", "Husband: Adorable, beautiful, cute, delightful, elegant, fashionable, gorgeous, and hot", "\n","Wife:Aw, thank you, but what about IJK?","\n", "Husband:I am just kidding")
			mytext = 'I hope you enjoyed by reading this conversation.'			
			language = 'en'
			myobj = gTTS(text=mytext, lang=language, slow=False)
			myobj.save("welcome11.mp3")
			os.system("mpg123 welcome11.mp3")
			time.sleep(5)
			mytext = 'thank you... for your kind participation...Before leaving, try to guess the name of this movie of this following theme. Let me see who will guess the theme first. Shall we start?'			
			language = 'en'
			myobj = gTTS(text=mytext, lang=language, slow=False)
			myobj.save("welcome17.mp3")
			os.system("mpg123 welcome17.mp3")			
			time.sleep(5)	
			pygame.init()
			song = pygame.mixer.Sound('john.ogg')
			clock = pygame.time.Clock()
			song.play()
			while True:
 			 clock.tick(60)
			pygame.quit()

		elif(a=="Disgust"):
			print("Your emotion is",(predicted_label))
			mytext = 'Artificial intelligence recognized your emotion is disgust... but do not worry we will make you happy. If you dont mind, can you read the below conversation between husband and wife. Please take fifteen seconds to read and enjoy it'			
			language = 'en'
			myobj = gTTS(text=mytext, lang=language, slow=False)
			myobj.save("welcome12.mp3")
			os.system("mpg123 welcome12.mp3")
			print("why so Serious? Let me tell you a joke", "\n", "Wife:In my dream, I saw you in a jewelry store and you bought me a diamond ring", "\n","Husband:I had the same dream and I saw your dad paying the bill.")
			time.sleep(5)
			mytext = 'thank you... for your kind participation..Before leaving, try to guess the name of this movie of this following theme. Let me see who will guess the theme first. Shall we start?'			
			language = 'en'
			myobj = gTTS(text=mytext, lang=language, slow=False)
			myobj.save("welcome17.mp3")
			os.system("mpg123 welcome17.mp3")			
			time.sleep(5)	
			pygame.init()
			song = pygame.mixer.Sound('got.ogg')
			clock = pygame.time.Clock()
			song.play()
			while True:
 			 clock.tick(60)
			pygame.quit()
			
		elif(a=="Surprise"):
			print("Your emotion is",(predicted_label))
			mytext = 'Artificial intelligence recognized your emotion is Surprise...Can you please share your beautiful moment with me'			
			language = 'en'
			myobj = gTTS(text=mytext, lang=language, slow=False)
			myobj.save("welcome13.mp3")
			os.system("mpg123 welcome13.mp3")
			speech_key,service_region="c5246d1ddf8c42079789c3a0c4f65f5c","westus"
			setting=speechsdk.SpeechConfig(subscription=speech_key,region=service_region)
			speech_recognizer=speechsdk.SpeechRecognizer(speech_config=setting)
			print("MIC ON.. say something why are you surprised...")
			results=speech_recognizer.recognize_once()
			time.sleep(5)
			print("Wow even I feel surprised after hearing this ...",results.text)
			mytext = 'Thanks for sharing your surprise moment'			
			language = 'en'
			myobj = gTTS(text=mytext, lang=language, slow=False)
			myobj.save("welcome14.mp3")
			os.system("mpg123 welcome14.mp3")
			time.sleep(5)
			mytext = 'thank you... for your kind participation...Before leaving, try to guess the name of this movie of this following theme. Let me see who will guess the theme first. Shall we start?'			
			language = 'en'
			myobj = gTTS(text=mytext, lang=language, slow=False)
			myobj.save("welcome17.mp3")
			os.system("mpg123 welcome17.mp3")			
			time.sleep(5)	
			pygame.init()
			song = pygame.mixer.Sound('bb.ogg')
			clock = pygame.time.Clock()
			song.play()
			while True:
 			 clock.tick(60)
			pygame.quit()
			
		elif(a=="Happy"):
			print("Your emotion is",(predicted_label))
			mytext = 'Artificial intelligence recognized your emotion is Happy...Can you please share your beautiful moment with me? '			
			language = 'en'
			myobj = gTTS(text=mytext, lang=language, slow=False)
			myobj.save("welcome15.mp3")
			os.system("mpg123 welcome15.mp3")
			time.sleep(5)
			speech_key,service_region="c5246d1ddf8c42079789c3a0c4f65f5c","westus"
			setting=speechsdk.SpeechConfig(subscription=speech_key,region=service_region)
			speech_recognizer=speechsdk.SpeechRecognizer(speech_config=setting)
			print("MIC ON.. say something now ...")
			results=speech_recognizer.recognize_once()
			time.sleep(5)
			print("Wow even I feel happy after hearing this ...",results.text)
			mytext = 'Wow even I feel happy after hearing this ... '			
			language = 'en'
			myobj = gTTS(text=mytext, lang=language, slow=False)
			myobj.save("welcome16.mp3")
			os.system("mpg123 welcome16.mp3")			
			time.sleep(5)
			mytext = 'thank you... for your kind participation...Before leaving, try to guess the name of this movie of this following theme. Let me see who will guess the theme first. Shall we start?'			
			language = 'en'
			myobj = gTTS(text=mytext, lang=language, slow=False)
			myobj.save("welcome17.mp3")
			os.system("mpg123 welcome17.mp3")			
			time.sleep(5)	
			pygame.init()
			song = pygame.mixer.Sound('tt.ogg')
			clock = pygame.time.Clock()
			song.play()
			while True:
 			 clock.tick(60)
			pygame.quit()
			
		else:
			print("Your emotion is",(predicted_label))
			mytext = 'Artificial intelligence recognized your emotion is Fear... but, do not worry we will make you motivated. If you dont mind, can you listen to the below motivational speech'			
			language = 'en'
			myobj = gTTS(text=mytext, lang=language, slow=False)
			myobj.save("welcome17.mp3")
			os.system("mpg123 welcome17.mp3")
			pygame.init()
			song = pygame.mixer.Sound('bl.ogg')
			clock = pygame.time.Clock()
			song.play()
			while True:
 			 clock.tick(60)
			pygame.quit()
			time.sleep(5)
			mytext = 'thank you... for your kind participation...Before leaving, try to guess the name of this movie of this following theme. Let me see who will guess the theme first. Shall we start?'			
			language = 'en'
			myobj = gTTS(text=mytext, lang=language, slow=False)
			myobj.save("welcome18.mp3")
			os.system("mpg123 welcome18.mp3")			
			time.sleep(5)	
			pygame.init()
			song = pygame.mixer.Sound('sh.ogg')
			clock = pygame.time.Clock()
			song.play()
			while True:
 			 clock.tick(60)
			pygame.quit()